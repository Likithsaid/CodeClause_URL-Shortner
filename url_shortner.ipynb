{
  "nbformat": 4,
  "nbformat_minor": 0,
  "metadata": {
    "colab": {
      "provenance": []
    },
    "kernelspec": {
      "name": "python3",
      "display_name": "Python 3"
    },
    "language_info": {
      "name": "python"
    }
  },
  "cells": [
    {
      "cell_type": "code",
      "execution_count": 2,
      "metadata": {
        "colab": {
          "base_uri": "https://localhost:8080/"
        },
        "id": "7C5_zU99dbYF",
        "outputId": "64e8e426-0874-4881-98f9-583ede65b918"
      },
      "outputs": [
        {
          "output_type": "stream",
          "name": "stdout",
          "text": [
            "Looking in indexes: https://pypi.org/simple, https://us-python.pkg.dev/colab-wheels/public/simple/\n",
            "Collecting pyshorteners\n",
            "  Downloading pyshorteners-1.0.1.tar.gz (10.0 kB)\n",
            "  Preparing metadata (setup.py) ... \u001b[?25l\u001b[?25hdone\n",
            "Requirement already satisfied: requests in /usr/local/lib/python3.10/dist-packages (from pyshorteners) (2.27.1)\n",
            "Requirement already satisfied: certifi>=2017.4.17 in /usr/local/lib/python3.10/dist-packages (from requests->pyshorteners) (2022.12.7)\n",
            "Requirement already satisfied: urllib3<1.27,>=1.21.1 in /usr/local/lib/python3.10/dist-packages (from requests->pyshorteners) (1.26.15)\n",
            "Requirement already satisfied: charset-normalizer~=2.0.0 in /usr/local/lib/python3.10/dist-packages (from requests->pyshorteners) (2.0.12)\n",
            "Requirement already satisfied: idna<4,>=2.5 in /usr/local/lib/python3.10/dist-packages (from requests->pyshorteners) (3.4)\n",
            "Building wheels for collected packages: pyshorteners\n",
            "  Building wheel for pyshorteners (setup.py) ... \u001b[?25l\u001b[?25hdone\n",
            "  Created wheel for pyshorteners: filename=pyshorteners-1.0.1-py3-none-any.whl size=17493 sha256=7febae122d1ca32d90eef1abf4ad5c69c544de6b22f2d926dfdce24137c845e6\n",
            "  Stored in directory: /root/.cache/pip/wheels/d5/ff/b3/16d8906f92ab0b042f76a4696fcea11d291d79a2b3a3de1e78\n",
            "Successfully built pyshorteners\n",
            "Installing collected packages: pyshorteners\n",
            "Successfully installed pyshorteners-1.0.1\n"
          ]
        }
      ],
      "source": [
        "!pip install pyshorteners"
      ]
    },
    {
      "cell_type": "code",
      "source": [
        "#importing Package\n",
        "import pyshorteners\n",
        "#requesting url\n",
        "url = input('Enter the url that has to be Shortened: ')\n",
        "#defing the Function()\n",
        "def shortenurl(url):     \n",
        "    l = pyshorteners.Shortener()\n",
        "    print(\"shortenurl:- \",l.tinyurl.short(url))  \n",
        "#printing url\n",
        "print(\" \")\n",
        "#call() function\n",
        "shortenurl(url) \n",
        "#url Shorten\n",
        "a = input( )\n",
        "print(\"Your URL has benn Sucessfully Shortened\")\n",
        "# A CODE BY LIKITH SAI--\n"
      ],
      "metadata": {
        "colab": {
          "base_uri": "https://localhost:8080/"
        },
        "id": "4wp20_NzGe8M",
        "outputId": "2514237d-f782-4d25-81aa-b7373284afdc"
      },
      "execution_count": null,
      "outputs": [
        {
          "output_type": "stream",
          "name": "stdout",
          "text": [
            "Enter the url that has to be Shortened: https://www.google.com/search?q=barcelona&rlz=1C1ONGR_enIN1051IN1051&oq=bar&aqs=chrome.0.35i39i355i650j46i39i650j69i57j0i67i650j46i131i199i433i465i512j69i61l3.1249j0j7&sourceid=chrome&ie=UTF-8#sie=t;/m/0hvgt;2;/m/09gqx;mt;fp;1;;;\n",
            " \n",
            "shortenurl:-  https://tinyurl.com/2z2ovp86\n"
          ]
        }
      ]
    }
  ]
}